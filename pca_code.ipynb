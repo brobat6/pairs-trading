{
 "cells": [
  {
   "cell_type": "code",
   "execution_count": 11,
   "metadata": {},
   "outputs": [],
   "source": [
    "import pandas as pd\n",
    "import numpy as np\n",
    "import datetime\n",
    "from statsmodels.tsa.stattools import adfuller\n",
    "import matplotlib.pyplot as plt\n",
    "from scipy import stats"
   ]
  },
  {
   "cell_type": "code",
   "execution_count": 12,
   "metadata": {},
   "outputs": [],
   "source": [
    "#read metadata csv\n",
    "nifty_meta = pd.read_csv(r'pairs_nifty_meta.csv')\n",
    "\n",
    "# get the ticker list with industry is equal to FINANCIAL SERVICES\n",
    "tickers = list(nifty_meta[nifty_meta.Industry == 'FINANCIAL SERVICES'].Symbol)\n",
    "\n",
    "# start and end dates for backtesting\n",
    "fromdate = datetime.datetime(2010, 1, 1)\n",
    "todate = datetime.datetime(2014, 6, 15)\n",
    "\n",
    "# read back the pricing data\n",
    "prices = pd.read_csv(r'pairs_prices.csv', index_col=['ticker','date'], parse_dates=True)\n",
    "\n",
    "idx = pd.IndexSlice\n",
    "# remove tickers where we have less than 10 years of data.\n",
    "min_obs = 2520\n",
    "nobs = prices.groupby(level='ticker').size()\n",
    "keep = nobs[nobs>min_obs].index\n",
    "prices = prices.loc[idx[keep,:], :]\n",
    "\n",
    "# final tickers list\n",
    "TICKERS = list(prices.index.get_level_values('ticker').unique())\n",
    "\n",
    "# unstack and take close price\n",
    "close = prices.unstack('ticker')['close'].sort_index()\n",
    "close = close.dropna()"
   ]
  },
  {
   "cell_type": "code",
   "execution_count": 13,
   "metadata": {},
   "outputs": [],
   "source": [
    "# Find the stocks return matrix\n",
    "R = close.diff()\n",
    "\n",
    "# Delete the first row of NaN values\n",
    "R = R.iloc[1:, :]\n",
    "\n",
    "# Standardize the returns\n",
    "Y = (R - R.mean()) / R.std()\n",
    "\n",
    "# Get covariance and correlation matrix of standardized returns\n",
    "Covariance = Y.cov()\n",
    "Correlation = Y.corr()"
   ]
  },
  {
   "cell_type": "code",
   "execution_count": 14,
   "metadata": {},
   "outputs": [
    {
     "data": {
      "image/png": "[encoded data removed]",
      "text/plain": [
       "<Figure size 432x288 with 1 Axes>"
      ]
     },
     "metadata": {
      "needs_background": "light"
     },
     "output_type": "display_data"
    }
   ],
   "source": [
    "# Plot the returns matrix to see they're roughly on the same scale\n",
    "plt.plot(Y)\n",
    "plt.show()"
   ]
  },
  {
   "cell_type": "code",
   "execution_count": 15,
   "metadata": {},
   "outputs": [
    {
     "name": "stdout",
     "output_type": "stream",
     "text": [
      "Max ADF critical value -  -10.290149572716915\n"
     ]
    }
   ],
   "source": [
    "# Confirm that we have stationary time series\n",
    "adf = -100\n",
    "for i in range(1, 11):\n",
    "    x = adfuller(Y.iloc[:, 10].dropna())\n",
    "    adf = max(x[0], adf)\n",
    "print(\"Max ADF critical value - \", adf)"
   ]
  },
  {
   "cell_type": "code",
   "execution_count": 16,
   "metadata": {},
   "outputs": [
    {
     "name": "stdout",
     "output_type": "stream",
     "text": [
      "[6.20297605 1.99975208 0.96841302 0.8279573  0.72135452 0.65851141\n",
      " 0.61263924 0.5988426  0.56273827 0.47495585 0.34262819 0.29719577\n",
      " 0.28114667 0.26283856 0.18805047]\n"
     ]
    }
   ],
   "source": [
    "# Find the eigenvalues and eigenvectors\n",
    "eig_vals,eig_vecs = np.linalg.eig(Covariance)\n",
    "\n",
    "# Sort eigenvalues and eigenvectors in decreasing order\n",
    "idx = eig_vals.argsort()[::-1]   \n",
    "eigenvalues = eig_vals[idx]\n",
    "eig_vecs = eig_vecs[:,idx]\n",
    "\n",
    "print(eigenvalues)"
   ]
  },
  {
   "cell_type": "code",
   "execution_count": 19,
   "metadata": {},
   "outputs": [],
   "source": [
    "def solve(k1, k2):\n",
    "\n",
    "    xl = []\n",
    "    yl = []\n",
    "\n",
    "\n",
    "\n",
    "    #set up the labels so that central points are blank\n",
    "    tickers = list(Y.columns)\n",
    "\n",
    "    #insert some spacers as we want pairs of labels\n",
    "    for index, item in enumerate(tickers):\n",
    "        if index % 2 == 0:\n",
    "            tickers.insert(index,'')\n",
    "\n",
    "\n",
    "    #build up data points for loadings plot\n",
    "    for i in range(eig_vecs.shape[0]):\n",
    "\n",
    "        x_val = [0,eig_vecs[i,k1]*(0 if eig_vals[i]<0 else np.sqrt(eig_vals[i]))]\n",
    "        y_val = [0,eig_vecs[i,k2]*(0 if eig_vals[i]<0 else np.sqrt(eig_vals[i]))]\n",
    "        xl.append(x_val)\n",
    "        yl.append(y_val)\n",
    "\n",
    "    #convert list of lists to list     \n",
    "    flattenedx = [val for sublist in xl for val in sublist]\n",
    "    flattenedy = [val for sublist in yl for val in sublist]\n",
    "\n",
    "    # print(flattenedx)\n",
    "    # print(flattenedy)\n",
    "\n",
    "    #list to contain tuples (ith example, quandrant location 1,2,3,4)\n",
    "    quad = []\n",
    "\n",
    "    for i in range(eig_vecs.shape[0]):\n",
    "        x = eig_vecs[i,k1]*(0 if eig_vals[i]<0 else np.sqrt(eig_vals[i]))\n",
    "        y = eig_vecs[i,k2]*(0 if eig_vals[i]<0 else np.sqrt(eig_vals[i]))\n",
    "        \n",
    "        #calculate the location of each indicies wrt the quadrant of the loading plot\n",
    "        if((x > 0) and (y > 0)):\n",
    "            quad.append((i, 1))\n",
    "        elif((x < 0) and (y > 0)):\n",
    "            quad.append((i, 2))\n",
    "        elif((x < 0) and (y < 0)):\n",
    "            quad.append((i, 3))\n",
    "        elif((x > 0) and (y < 0)):\n",
    "            quad.append((i, 4))\n",
    "\n",
    "\n",
    "    #reset the tickers to the original format\n",
    "    tickers = list(Y.columns)\n",
    "\n",
    "    #collect the entities for ranking later\n",
    "    corrells = pd.DataFrame(columns=[\"Stock/index_A\",\"Stock/index_B\",\"R^2\"])\n",
    "\n",
    "    #select the stocks only\n",
    "    stocks = tickers[:10]\n",
    "\n",
    "    #calculate quadrant membership and determine opposing pairs\n",
    "    for i in range(len(quad)):\n",
    "        # Q1 vs Q3\n",
    "        if(quad[i][1] == 1):\n",
    "            for j in range(len(quad)):\n",
    "                #we are only interested in correlations that involve at least 1 stock\n",
    "                if(quad[j][1] == 3 and ((tickers[quad[i][0]] in stocks) or (tickers[quad[j][0]] in stocks)) ):\n",
    "\n",
    "                    ts1 = Y[tickers[quad[i][0]]]  # time-series for cross plots\n",
    "                    ts2 = Y[tickers[quad[j][0]]]\n",
    "    \n",
    "                    # correlation metrics \n",
    "                    slope, intercept, r2, pvalue, _ = stats.linregress(ts1, ts2)\n",
    "            \n",
    "                    corrells = corrells.append({\"Stock/index_A\":tickers[quad[i][0]],\"Stock/index_B\":tickers[quad[j][0]],\"R^2\":r2},ignore_index=True)\n",
    "                    \n",
    "                        \n",
    "                        \n",
    "        # Q2 vs Q4\n",
    "        if(quad[i][1] == 2):\n",
    "            for j in range(len(quad)):\n",
    "                if(quad[j][1] == 4 and ((tickers[quad[i][0]] in stocks) or (tickers[quad[j][0]] in stocks))):\n",
    "                \n",
    "                    ts1 = Y[tickers[quad[i][0]]]  # time-series for cross plots\n",
    "                    ts2 = Y[tickers[quad[j][0]]]\n",
    "    \n",
    "                    # correlation metrics \n",
    "                    slope, intercept, r2, pvalue, _ = stats.linregress(ts1, ts2)\n",
    "\n",
    "                    corrells = corrells.append({\"Stock/index_A\":tickers[quad[i][0]],\"Stock/index_B\":tickers[quad[j][0]],\"R^2\":r2},ignore_index=True)\n",
    "\n",
    "    corrells = corrells.sort_values(by=\"R^2\",ascending=False)\n",
    "    corrells = corrells.reset_index(drop=True)\n",
    "    return corrells.head(3)"
   ]
  },
  {
   "cell_type": "code",
   "execution_count": 20,
   "metadata": {},
   "outputs": [
    {
     "name": "stdout",
     "output_type": "stream",
     "text": [
      "Components chosen - 1 and 2\n",
      "  Stock/index_A Stock/index_B       R^2\n",
      "0    BAJFINANCE     ICICIBANK  0.484756\n",
      "1    BAJAJFINSV     ICICIBANK  0.476160\n",
      "2    BAJAJFINSV      AXISBANK  0.453894\n",
      "Components chosen - 2 and 3\n",
      "  Stock/index_A Stock/index_B       R^2\n",
      "0      HDFCBANK    BAJFINANCE  0.547194\n",
      "1     KOTAKBANK    BAJFINANCE  0.524792\n",
      "2      HDFCBANK    BAJAJFINSV  0.522969\n",
      "Components chosen - 3 and 4\n",
      "  Stock/index_A Stock/index_B       R^2\n",
      "0      HDFCBANK     ICICIBANK  0.536859\n",
      "1      AXISBANK          SBIN  0.532475\n",
      "2          HDFC     ICICIBANK  0.497268\n",
      "Components chosen - 4 and 5\n",
      "  Stock/index_A Stock/index_B       R^2\n",
      "0          SBIN     ICICIBANK  0.617723\n",
      "1          SBIN      AXISBANK  0.532475\n",
      "2     KOTAKBANK     ICICIBANK  0.462388\n",
      "Components chosen - 5 and 6\n",
      "  Stock/index_A Stock/index_B       R^2\n",
      "0    BAJFINANCE     KOTAKBANK  0.524792\n",
      "1    BAJAJFINSV     KOTAKBANK  0.493884\n",
      "2     ICICIBANK     KOTAKBANK  0.462388\n",
      "Components chosen - 6 and 7\n",
      "  Stock/index_A Stock/index_B       R^2\n",
      "0      HDFCBANK    BAJFINANCE  0.547194\n",
      "1     KOTAKBANK    BAJFINANCE  0.524792\n",
      "2      HDFCBANK    BAJAJFINSV  0.522969\n",
      "Components chosen - 7 and 8\n",
      "  Stock/index_A Stock/index_B       R^2\n",
      "0    BAJFINANCE          HDFC  0.522099\n",
      "1    BAJAJFINSV          HDFC  0.490223\n",
      "2    BAJFINANCE     ICICIBANK  0.484756\n",
      "Components chosen - 8 and 9\n",
      "  Stock/index_A Stock/index_B       R^2\n",
      "0          SBIN    BANKBARODA  0.683864\n",
      "1          HDFC      HDFCBANK  0.638439\n",
      "2          HDFC     KOTAKBANK  0.506599\n",
      "Components chosen - 9 and 10\n",
      "  Stock/index_A Stock/index_B       R^2\n",
      "0    BANKBARODA          SBIN  0.683864\n",
      "1      HDFCBANK          HDFC  0.638439\n",
      "2      HDFCBANK    BAJFINANCE  0.547194\n",
      "Components chosen - 10 and 11\n",
      "  Stock/index_A Stock/index_B       R^2\n",
      "0    BANKBARODA          SBIN  0.683864\n",
      "1      AXISBANK     ICICIBANK  0.660036\n",
      "2          HDFC      HDFCBANK  0.638439\n",
      "Components chosen - 11 and 12\n",
      "  Stock/index_A Stock/index_B       R^2\n",
      "0    BAJFINANCE    BAJAJFINSV  0.806600\n",
      "1     ICICIBANK      AXISBANK  0.660036\n",
      "2     KOTAKBANK      HDFCBANK  0.656635\n",
      "Components chosen - 12 and 13\n",
      "  Stock/index_A Stock/index_B       R^2\n",
      "0    BAJFINANCE    BAJAJFINSV  0.806600\n",
      "1           PNB    BANKBARODA  0.715912\n",
      "2     ICICIBANK      AXISBANK  0.660036\n",
      "Components chosen - 13 and 14\n",
      "  Stock/index_A Stock/index_B       R^2\n",
      "0    BAJFINANCE    BAJAJFINSV  0.806600\n",
      "1           PNB    BANKBARODA  0.715912\n",
      "2          SBIN    BANKBARODA  0.683864\n"
     ]
    }
   ],
   "source": [
    "for i in range(13, 0, -1):\n",
    "    print(f\"Components chosen - {15 - i - 1} and {15 - i}\")\n",
    "    print(solve(-i, -i - 1))"
   ]
  },
  {
   "cell_type": "code",
   "execution_count": 9,
   "metadata": {},
   "outputs": [],
   "source": [
    "# Questions:\n",
    "# Does it need to be a quadrant? --> Easier to code because x > 0 and y > 0 \n",
    "# Add an explanation of eigenvalues and eigenvectors --> How are they being used in the strategy?\n",
    "# Choose -3 and -4 components only? Options : train/validation set, or iterate over all combinations \n",
    "# ALso see what happens on taking best fit (strongest components) and compare\n",
    "# See if number of components can be increased"
   ]
  },
  {
   "cell_type": "code",
   "execution_count": null,
   "metadata": {},
   "outputs": [],
   "source": []
  }
 ],
 "metadata": {
  "kernelspec": {
   "display_name": "Python 3.7.13 ('backtrader')",
   "language": "python",
   "name": "python3"
  },
  "language_info": {
   "codemirror_mode": {
    "name": "ipython",
    "version": 3
   },
   "file_extension": ".py",
   "mimetype": "text/x-python",
   "name": "python",
   "nbconvert_exporter": "python",
   "pygments_lexer": "ipython3",
   "version": "3.7.13"
  },
  "orig_nbformat": 4,
  "vscode": {
   "interpreter": {
    "hash": "62ddbe3d0cfedc6f791e548f0e8974edf7a61480bb4005f4b32fb334f2b2cbee"
   }
  }
 },
 "nbformat": 4,
 "nbformat_minor": 2
}
